{
 "cells": [
  {
   "cell_type": "code",
   "execution_count": null,
   "id": "3995082e",
   "metadata": {
    "scrolled": true
   },
   "outputs": [],
   "source": [
    "# Install necessary libraries:\n",
    "!pip install pandas geopandas matplotlib folium\n",
    "!pip install geopy"
   ]
  },
  {
   "cell_type": "code",
   "execution_count": null,
   "id": "276d7758",
   "metadata": {},
   "outputs": [],
   "source": [
    "import pandas as pd\n",
    "import geopandas as gpd\n",
    "import matplotlib.pyplot as plt\n",
    "from shapely.geometry import Point\n",
    "import folium\n",
    "from folium.plugins import MarkerCluster\n",
    "from geopy.geocoders import Nominatim\n",
    "import logging\n",
    "import time\n",
    "\n",
    "\n",
    "# Load your dataset\n",
    "df = pd.read_csv('weather_data.csv')\n",
    "df = df.head(500)"
   ]
  },
  {
   "cell_type": "code",
   "execution_count": null,
   "id": "53a66637",
   "metadata": {},
   "outputs": [],
   "source": [
    "\n",
    "# Extract unique city names from the 'Location' column\n",
    "unique_cities = df['Location'].unique()\n",
    "\n",
    "# Initialize the geocoder\n",
    "geolocator = Nominatim(user_agent=\"geoapiExercises\")\n",
    "\n",
    "# Set up logging\n",
    "logging.basicConfig(level=logging.INFO)\n",
    "logger = logging.getLogger()\n",
    "\n",
    "# Function to get coordinates with error handling\n",
    "def get_coordinates(city, retries=3):\n",
    "    for attempt in range(retries):\n",
    "        try:\n",
    "            location = geolocator.geocode(city)\n",
    "            if location:\n",
    "                return (location.latitude, location.longitude)\n",
    "            else:\n",
    "                logger.warning(f\"Could not find coordinates for {city}\")\n",
    "                return (None, None)\n",
    "        except Exception as e:\n",
    "            logger.error(f\"Error fetching coordinates for {city}: {e}\")\n",
    "            time.sleep(1)  # Wait a bit before retrying\n",
    "    return (None, None)\n",
    "\n",
    "# Create a dictionary of city coordinates\n",
    "city_coords = {}\n",
    "for city in unique_cities:\n",
    "    city_coords[city] = get_coordinates(city)\n",
    "    time.sleep(1)  # To avoid overwhelming the server with requests\n",
    "\n",
    "# Convert to a DataFrame\n",
    "coords_df = pd.DataFrame(city_coords).T.reset_index()\n",
    "coords_df.columns = ['Location', 'Latitude', 'Longitude']\n",
    "\n",
    "print(coords_df)\n"
   ]
  },
  {
   "cell_type": "code",
   "execution_count": null,
   "id": "55b088e7",
   "metadata": {},
   "outputs": [],
   "source": [
    "\n",
    "# Create a DataFrame with the coordinates\n",
    "coords = pd.DataFrame(city_coords).T.reset_index()\n",
    "coords.columns = ['Location', 'Latitude', 'Longitude']\n",
    "\n",
    "# Merge coordinates with the main DataFrame\n",
    "df = df.merge(coords, on='Location')\n",
    "\n",
    "# Create a GeoDataFrame\n",
    "geometry = [Point(xy) for xy in zip(df['Longitude'], df['Latitude'])]\n",
    "gdf = gpd.GeoDataFrame(df, geometry=geometry)\n",
    "\n",
    "# Set the coordinate reference system to WGS84\n",
    "gdf.crs = {'init': 'epsg:4326'}\n"
   ]
  },
  {
   "cell_type": "code",
   "execution_count": null,
   "id": "6bbd62f0",
   "metadata": {},
   "outputs": [],
   "source": [
    "# Plot the locations\n",
    "gdf.plot(column='Temperature_C', cmap='coolwarm', legend=True, markersize=5)\n",
    "plt.title('Temperature Distribution by Location')\n",
    "plt.show()\n"
   ]
  },
  {
   "cell_type": "code",
   "execution_count": null,
   "id": "91ffd1b8",
   "metadata": {},
   "outputs": [],
   "source": [
    "import folium\n",
    "from folium.plugins import MarkerCluster\n",
    "\n",
    "# Initialize a Folium map\n",
    "m = folium.Map(location=[20,0], zoom_start=2)\n"
   ]
  },
  {
   "cell_type": "code",
   "execution_count": null,
   "id": "7354a446",
   "metadata": {},
   "outputs": [],
   "source": [
    "# Add points to the map\n",
    "marker_cluster = MarkerCluster().add_to(m)\n"
   ]
  },
  {
   "cell_type": "code",
   "execution_count": null,
   "id": "f30ba81e",
   "metadata": {},
   "outputs": [],
   "source": [
    "# Create and add markers\n",
    "for idx, row in df.iterrows():\n",
    "    folium.Marker(\n",
    "        location=[row['Latitude'], row['Longitude']],\n",
    "        popup=folium.Popup(\n",
    "            f\"Location: {row['Location']}<br>\"\n",
    "            f\"Temperature: {row['Temperature_C']} C<br>\"\n",
    "            f\"Humidity: {row['Humidity_pct']}%<br>\"\n",
    "            f\"Precipitation: {row['Precipitation_mm']} mm<br>\"\n",
    "            f\"Wind Speed: {row['Wind_Speed_kmh']} km/h\",\n",
    "            max_width=300\n",
    "        )\n",
    "    ).add_to(marker_cluster)"
   ]
  },
  {
   "cell_type": "code",
   "execution_count": null,
   "id": "b17c59e8",
   "metadata": {},
   "outputs": [],
   "source": [
    "# Save to an HTML file\n",
    "m.save('weather_map.html')\n",
    "\n",
    "# Display the map in a Jupyter notebook\n",
    "m"
   ]
  }
 ],
 "metadata": {
  "kernelspec": {
   "display_name": "Python 3 (ipykernel)",
   "language": "python",
   "name": "python3"
  },
  "language_info": {
   "codemirror_mode": {
    "name": "ipython",
    "version": 3
   },
   "file_extension": ".py",
   "mimetype": "text/x-python",
   "name": "python",
   "nbconvert_exporter": "python",
   "pygments_lexer": "ipython3",
   "version": "3.8.12"
  }
 },
 "nbformat": 4,
 "nbformat_minor": 5
}
