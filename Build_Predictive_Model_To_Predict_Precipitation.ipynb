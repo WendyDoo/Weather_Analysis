{
 "cells": [
  {
   "cell_type": "code",
   "execution_count": 5,
   "id": "a9ce361d",
   "metadata": {},
   "outputs": [
    {
     "name": "stdout",
     "output_type": "stream",
     "text": [
      "Linear Regression Mean Squared Error: 8.664671382787539\n"
     ]
    }
   ],
   "source": [
    "# Import libraries\n",
    "import pandas as pd\n",
    "from sklearn.model_selection import train_test_split\n",
    "from sklearn.linear_model import LinearRegression\n",
    "from sklearn.metrics import mean_squared_error\n",
    "\n",
    "# Load the dataset\n",
    "# Replace 'weather_data.csv' with the path to your dataset\n",
    "df = pd.read_csv('weather_data.csv')\n",
    "\n",
    "# Select features (X) and target variable (y)\n",
    "X = df[['Temperature_C', 'Wind_Speed_kmh', 'Humidity_pct']]\n",
    "y = df['Precipitation_mm']\n",
    "\n",
    "# Split the data into training and testing sets\n",
    "X_train, X_test, y_train, y_test = train_test_split(X, y, test_size=0.2, random_state=42)\n",
    "\n",
    "# Train the linear regression model\n",
    "model = LinearRegression()\n",
    "model.fit(X_train, y_train)\n",
    "\n",
    "# Make predictions on the testing set\n",
    "y_pred = model.predict(X_test)\n",
    "\n",
    "# Evaluate the model\n",
    "mse = mean_squared_error(y_test, y_pred)\n",
    "print('Linear Regression Mean Squared Error:', mse)\n"
   ]
  },
  {
   "cell_type": "markdown",
   "id": "cf09c1cc",
   "metadata": {},
   "source": [
    "The Mean Squared Error (MSE) of 8.6647 obtained for the linear regression model indicates that, on average, the squared difference between the actual precipitation values and the predicted values is approximately 8.6647 square millimeters.\n",
    "\n",
    "#### Mean Squared Error (MSE):\n",
    "\n",
    "The MSE measures the average squared difference between the predicted and actual values. A lower MSE indicates better performance, as it means the model's predictions are closer to the actual values on average.\n",
    "In this case, an MSE of 8.6647 suggests that the linear regression model provides relatively accurate predictions of precipitation based on the input features (temperature, wind speed, and humidity).\n",
    "Interpretation:\n",
    "\n",
    "The MSE value of 8.6647 is relatively low, indicating that the linear regression model is effective in capturing the underlying relationships between the input features and the target variable (precipitation).\n",
    "The model's predictions are reasonably close to the actual precipitation values, suggesting that the chosen features (temperature, wind speed, and humidity) are informative for predicting precipitation."
   ]
  },
  {
   "cell_type": "code",
   "execution_count": 6,
   "id": "a48b2d18",
   "metadata": {},
   "outputs": [
    {
     "name": "stdout",
     "output_type": "stream",
     "text": [
      "Gradient Boosting Mean Squared Error: 8.63729433700543\n"
     ]
    }
   ],
   "source": [
    "from sklearn.ensemble import GradientBoostingRegressor\n",
    "\n",
    "# Create a Gradient Boosting regressor\n",
    "gb_model = GradientBoostingRegressor(random_state=42)\n",
    "\n",
    "# Train the model\n",
    "gb_model.fit(X_train, y_train)\n",
    "\n",
    "# Make predictions on the testing set\n",
    "y_pred_gb = gb_model.predict(X_test)\n",
    "\n",
    "# Evaluate the model\n",
    "mse_gb = mean_squared_error(y_test, y_pred_gb)\n",
    "print('Gradient Boosting Mean Squared Error:', mse_gb)\n"
   ]
  },
  {
   "cell_type": "markdown",
   "id": "f5122f4f",
   "metadata": {},
   "source": [
    "The Mean Squared Error (MSE) of 8.6373 obtained for the Gradient Boosting model is slightly lower than the MSE obtained for the linear regression model. Here's an evaluation of the MSE and the model's performance:\n",
    "\n",
    "#### Mean Squared Error (MSE):\n",
    "\n",
    "The MSE measures the average squared difference between the predicted and actual values. A lower MSE indicates better performance, as it means the model's predictions are closer to the actual values on average.\n",
    "In this case, an MSE of 8.6373 suggests that the Gradient Boosting model provides relatively accurate predictions of precipitation based on the input features (temperature, wind speed, and humidity).\n",
    "\n",
    "#### Interpretation:\n",
    "\n",
    "The lower MSE value compared to linear regression suggests that the Gradient Boosting model is better at capturing the underlying relationships between the input features and the target variable (precipitation).\n",
    "\n",
    "The model's predictions are slightly closer to the actual precipitation values compared to the linear regression model, indicating improved performance.\n",
    "\n"
   ]
  }
 ],
 "metadata": {
  "kernelspec": {
   "display_name": "Python 3 (ipykernel)",
   "language": "python",
   "name": "python3"
  },
  "language_info": {
   "codemirror_mode": {
    "name": "ipython",
    "version": 3
   },
   "file_extension": ".py",
   "mimetype": "text/x-python",
   "name": "python",
   "nbconvert_exporter": "python",
   "pygments_lexer": "ipython3",
   "version": "3.8.12"
  }
 },
 "nbformat": 4,
 "nbformat_minor": 5
}
